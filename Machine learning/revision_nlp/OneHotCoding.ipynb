{
 "cells": [
  {
   "attachments": {},
   "cell_type": "markdown",
   "metadata": {},
   "source": [
    "# One Hot Coding"
   ]
  },
  {
   "attachments": {},
   "cell_type": "markdown",
   "metadata": {},
   "source": [
    "            one hot coding --> one of the method to transform text into number to faciliate the natural language processing"
   ]
  },
  {
   "attachments": {},
   "cell_type": "markdown",
   "metadata": {},
   "source": [
    "## what is One Hot Coding?\n",
    "\n",
    "            One-hot encoding is a vector representation of words that takes the size of a set of words as a vector dimension, gives the index of the word you want to represent a value of 1, and gives the other index a value of 0. The vector represented in this way is called a one-hot vector.\n",
    "\n",
    "            Let's summarize one-hot encoding into two processes. First, perform integer encoding. In other words, give each word a unique integer. Second, consider the unique integer of the word you want to represent as an index, give 1 to that position, and give 0 to the index of the other word. Let's make a one-hot vector using sentence below as an example.\n",
    "\n",
    "            Sentence: \n",
    "            \"I learn natural language processin\"\n",
    "\n",
    "            Tokenization is performed on sentences through the Okt morpheme analyzer."
   ]
  },
  {
   "cell_type": "code",
   "execution_count": 24,
   "metadata": {},
   "outputs": [
    {
     "name": "stdout",
     "output_type": "stream",
     "text": [
      "['나', '는', '자연어', '처리', '를', '배운다']\n"
     ]
    }
   ],
   "source": [
    "import os\n",
    "from konlpy.tag import Okt \n",
    " \n",
    "\n",
    "os.environ['JAVA_HOME'] = r'C:\\Program Files\\Java\\jdk-19'\n",
    "\n",
    "okt = Okt()  \n",
    "tokens = okt.morphs(\"나는 자연어 처리를 배운다\") \n",
    "print(tokens) \n"
   ]
  },
  {
   "cell_type": "code",
   "execution_count": null,
   "metadata": {},
   "outputs": [],
   "source": []
  }
 ],
 "metadata": {
  "kernelspec": {
   "display_name": "[vm]",
   "language": "python",
   "name": "python3"
  },
  "language_info": {
   "name": "python",
   "version": "3.10.9"
  },
  "orig_nbformat": 4,
  "vscode": {
   "interpreter": {
    "hash": "7e6995fe598735bd8ce37961478d69a82b87d78144982f6a22ceff2fd02a29cd"
   }
  }
 },
 "nbformat": 4,
 "nbformat_minor": 2
}
