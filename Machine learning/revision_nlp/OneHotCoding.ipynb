{
 "cells": [
  {
   "attachments": {},
   "cell_type": "markdown",
   "metadata": {},
   "source": [
    "# One Hot Coding"
   ]
  },
  {
   "attachments": {},
   "cell_type": "markdown",
   "metadata": {},
   "source": [
    "            one hot coding --> one of the method to transform text into number to faciliate the natural language processing"
   ]
  },
  {
   "attachments": {},
   "cell_type": "markdown",
   "metadata": {},
   "source": [
    "## what is One Hot Coding?\n",
    "\n",
    "            One-hot encoding is a vector representation of words that takes the size of a set of words as a vector dimension, gives the index of the word you want to represent a value of 1, and gives the other index a value of 0. The vector represented in this way is called a one-hot vector.\n",
    "\n",
    "            Let's summarize one-hot encoding into two processes. First, perform integer encoding. In other words, give each word a unique integer. Second, consider the unique integer of the word you want to represent as an index, give 1 to that position, and give 0 to the index of the other word. Let's make a one-hot vector using sentence below as an example.\n",
    "\n",
    "            Sentence: \n",
    "            \"I learn natural language processing\"\n",
    "\n",
    "            Tokenization is performed on sentences through the Okt morpheme analyzer."
   ]
  },
  {
   "cell_type": "code",
   "execution_count": 7,
   "metadata": {},
   "outputs": [],
   "source": [
    "# import os\n",
    "# from konlpy.tag import Okt \n",
    " \n",
    "\n",
    "# okt = Okt()  \n",
    "# tokens = okt.morphs(\"I learn natural language processing\") \n",
    "# print(tokens) \n",
    "\n",
    "# word_to_index = {word : index for index, word in enumerate(tokens)}\n",
    "# print('단어 집합 :',word_to_index)\n",
    "\n",
    "# def one_hot_encoding(word, word_to_index):\n",
    "#   one_hot_vector = [0]*(len(word_to_index))\n",
    "#   index = word_to_index[word]\n",
    "#   one_hot_vector[index] = 1\n",
    "#   return one_hot_vector\n",
    "\n",
    "# one_hot_encoding(\"자연어\", word_to_index)\n",
    "\n",
    "# erros--> No JVM shared library file (jvm.dll) found\n"
   ]
  },
  {
   "attachments": {},
   "cell_type": "markdown",
   "metadata": {},
   "source": [
    "## One Hot Coding using Keras "
   ]
  },
  {
   "cell_type": "code",
   "execution_count": 8,
   "metadata": {},
   "outputs": [
    {
     "name": "stdout",
     "output_type": "stream",
     "text": [
      "word assembled : {'do': 1, 'you': 2, 'want': 3, 'to': 4, 'go': 5, 'eat': 6, 'lunch': 7, 'with': 8, 'me': 9, 'hamburger': 10, 'for': 11, \"that's\": 12, 'the': 13, 'best': 14}\n"
     ]
    }
   ],
   "source": [
    "from tensorflow.keras.preprocessing.text import Tokenizer\n",
    "from tensorflow.keras.utils import to_categorical\n",
    "\n",
    "text= \"Do you want to go eat lunch with me? Do you want to go eat hamburger for lunch? That's the best.\"\n",
    "\n",
    "tokenizer = Tokenizer()\n",
    "tokenizer.fit_on_texts([text])\n",
    "print('word assembled :',tokenizer.word_index)"
   ]
  },
  {
   "cell_type": "code",
   "execution_count": 14,
   "metadata": {},
   "outputs": [
    {
     "name": "stdout",
     "output_type": "stream",
     "text": [
      "[3, 4, 5, 6, 7, 10, 13, 14]\n"
     ]
    }
   ],
   "source": [
    "sub_text = \" want to go eat lunch. Hamburger is the best menu.\"\n",
    "encoded = tokenizer.texts_to_sequences([sub_text])[0]\n",
    "print(encoded)"
   ]
  },
  {
   "cell_type": "code",
   "execution_count": 15,
   "metadata": {},
   "outputs": [
    {
     "name": "stdout",
     "output_type": "stream",
     "text": [
      "[[0. 0. 0. 1. 0. 0. 0. 0. 0. 0. 0. 0. 0. 0. 0.]\n",
      " [0. 0. 0. 0. 1. 0. 0. 0. 0. 0. 0. 0. 0. 0. 0.]\n",
      " [0. 0. 0. 0. 0. 1. 0. 0. 0. 0. 0. 0. 0. 0. 0.]\n",
      " [0. 0. 0. 0. 0. 0. 1. 0. 0. 0. 0. 0. 0. 0. 0.]\n",
      " [0. 0. 0. 0. 0. 0. 0. 1. 0. 0. 0. 0. 0. 0. 0.]\n",
      " [0. 0. 0. 0. 0. 0. 0. 0. 0. 0. 1. 0. 0. 0. 0.]\n",
      " [0. 0. 0. 0. 0. 0. 0. 0. 0. 0. 0. 0. 0. 1. 0.]\n",
      " [0. 0. 0. 0. 0. 0. 0. 0. 0. 0. 0. 0. 0. 0. 1.]]\n"
     ]
    }
   ],
   "source": [
    "one_hot = to_categorical(encoded)\n",
    "print(one_hot)"
   ]
  },
  {
   "attachments": {},
   "cell_type": "markdown",
   "metadata": {},
   "source": [
    "            Expressing the numeric form into the vector form "
   ]
  }
 ],
 "metadata": {
  "kernelspec": {
   "display_name": "[vm]",
   "language": "python",
   "name": "python3"
  },
  "language_info": {
   "codemirror_mode": {
    "name": "ipython",
    "version": 3
   },
   "file_extension": ".py",
   "mimetype": "text/x-python",
   "name": "python",
   "nbconvert_exporter": "python",
   "pygments_lexer": "ipython3",
   "version": "3.10.9"
  },
  "orig_nbformat": 4,
  "vscode": {
   "interpreter": {
    "hash": "7e6995fe598735bd8ce37961478d69a82b87d78144982f6a22ceff2fd02a29cd"
   }
  }
 },
 "nbformat": 4,
 "nbformat_minor": 2
}
