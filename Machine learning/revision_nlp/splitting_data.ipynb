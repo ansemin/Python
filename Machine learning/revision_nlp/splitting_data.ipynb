{
 "cells": [
  {
   "attachments": {},
   "cell_type": "markdown",
   "metadata": {},
   "source": [
    "# Splitting Data\n",
    "\n"
   ]
  },
  {
   "cell_type": "code",
   "execution_count": 1,
   "metadata": {},
   "outputs": [],
   "source": [
    "import pandas as pd\n",
    "import numpy as np\n",
    "from sklearn.model_selection import train_test_split"
   ]
  },
  {
   "attachments": {},
   "cell_type": "markdown",
   "metadata": {},
   "source": [
    "## Supervisied Learning\n",
    "\n",
    "            The answer for the data is already given. Predetermined data learning. "
   ]
  },
  {
   "attachments": {},
   "cell_type": "markdown",
   "metadata": {},
   "source": [
    "## Splitting X and Y"
   ]
  },
  {
   "attachments": {},
   "cell_type": "markdown",
   "metadata": {},
   "source": [
    "### Using Zip function"
   ]
  },
  {
   "cell_type": "code",
   "execution_count": 2,
   "metadata": {},
   "outputs": [
    {
     "name": "stdout",
     "output_type": "stream",
     "text": [
      "X data : ('a', 'b', 'c')\n",
      "y data : (1, 2, 3)\n"
     ]
    }
   ],
   "source": [
    "X, y = zip(['a', 1], ['b', 2], ['c', 3])\n",
    "print('X data :',X)\n",
    "print('y data :',y)"
   ]
  },
  {
   "cell_type": "code",
   "execution_count": 3,
   "metadata": {},
   "outputs": [
    {
     "name": "stdout",
     "output_type": "stream",
     "text": [
      "X data : ('a', 'b', 'c')\n",
      "y data : (1, 2, 3)\n"
     ]
    }
   ],
   "source": [
    "sequences = [['a', 1], ['b', 2], ['c', 3]]\n",
    "X, y = zip(*sequences)\n",
    "print('X data :',X)\n",
    "print('y data :',y)"
   ]
  },
  {
   "attachments": {},
   "cell_type": "markdown",
   "metadata": {},
   "source": [
    "### Splitting using DataFrame"
   ]
  },
  {
   "cell_type": "code",
   "execution_count": 4,
   "metadata": {},
   "outputs": [
    {
     "data": {
      "text/html": [
       "<div>\n",
       "<style scoped>\n",
       "    .dataframe tbody tr th:only-of-type {\n",
       "        vertical-align: middle;\n",
       "    }\n",
       "\n",
       "    .dataframe tbody tr th {\n",
       "        vertical-align: top;\n",
       "    }\n",
       "\n",
       "    .dataframe thead th {\n",
       "        text-align: right;\n",
       "    }\n",
       "</style>\n",
       "<table border=\"1\" class=\"dataframe\">\n",
       "  <thead>\n",
       "    <tr style=\"text-align: right;\">\n",
       "      <th></th>\n",
       "      <th>Mail Body</th>\n",
       "      <th>Spam Mail Present</th>\n",
       "    </tr>\n",
       "  </thead>\n",
       "  <tbody>\n",
       "    <tr>\n",
       "      <th>0</th>\n",
       "      <td>Last Benefit for You!</td>\n",
       "      <td>1</td>\n",
       "    </tr>\n",
       "    <tr>\n",
       "      <th>1</th>\n",
       "      <td>Please check if I can see you tomorrow...</td>\n",
       "      <td>0</td>\n",
       "    </tr>\n",
       "    <tr>\n",
       "      <th>2</th>\n",
       "      <td>Doyeon, how are you doing? Long time no see...</td>\n",
       "      <td>0</td>\n",
       "    </tr>\n",
       "    <tr>\n",
       "      <th>3</th>\n",
       "      <td>(Advertising) You can predict stock prices wit...</td>\n",
       "      <td>1</td>\n",
       "    </tr>\n",
       "  </tbody>\n",
       "</table>\n",
       "</div>"
      ],
      "text/plain": [
       "                                           Mail Body  Spam Mail Present\n",
       "0                              Last Benefit for You!                  1\n",
       "1          Please check if I can see you tomorrow...                  0\n",
       "2     Doyeon, how are you doing? Long time no see...                  0\n",
       "3  (Advertising) You can predict stock prices wit...                  1"
      ]
     },
     "execution_count": 4,
     "metadata": {},
     "output_type": "execute_result"
    }
   ],
   "source": [
    "values = [['Last Benefit for You!', 1],\n",
    "[\"Please check if I can see you tomorrow...\", 0] ,\n",
    "['Doyeon, how are you doing? Long time no see...',0] ,\n",
    "['(Advertising) You can predict stock prices with AI!', 1]]\n",
    "columns = ['Mail Body', 'Spam Mail Present']\n",
    "\n",
    "df = pd.DataFrame(values, columns=columns)\n",
    "df"
   ]
  },
  {
   "cell_type": "code",
   "execution_count": 5,
   "metadata": {},
   "outputs": [],
   "source": [
    "X = df['Mail Body']\n",
    "y = df['Spam Mail Present']"
   ]
  },
  {
   "cell_type": "code",
   "execution_count": 6,
   "metadata": {},
   "outputs": [
    {
     "name": "stdout",
     "output_type": "stream",
     "text": [
      "X data : ['Last Benefit for You!', 'Please check if I can see you tomorrow...', 'Doyeon, how are you doing? Long time no see...', '(Advertising) You can predict stock prices with AI!']\n",
      "y data : [1, 0, 0, 1]\n"
     ]
    }
   ],
   "source": [
    "print('X data :',X.to_list())\n",
    "print('y data :',y.to_list())"
   ]
  },
  {
   "attachments": {},
   "cell_type": "markdown",
   "metadata": {},
   "source": [
    "### Splitting using Numpy "
   ]
  },
  {
   "cell_type": "code",
   "execution_count": 9,
   "metadata": {},
   "outputs": [
    {
     "name": "stdout",
     "output_type": "stream",
     "text": [
      "the total data:\n",
      " [[ 0  1  2  3]\n",
      " [ 4  5  6  7]\n",
      " [ 8  9 10 11]\n",
      " [12 13 14 15]]\n"
     ]
    }
   ],
   "source": [
    "np_array=np.arange(0,16).reshape((4,4))\n",
    "print('the total data:\\n',np_array)"
   ]
  },
  {
   "cell_type": "code",
   "execution_count": 12,
   "metadata": {},
   "outputs": [
    {
     "name": "stdout",
     "output_type": "stream",
     "text": [
      "x data:\n",
      " [[ 0  1  2]\n",
      " [ 4  5  6]\n",
      " [ 8  9 10]\n",
      " [12 13 14]]\n",
      "y data:\n",
      " [ 3  7 11 15]\n"
     ]
    }
   ],
   "source": [
    "x = np_array[:, :3]\n",
    "y = np_array[:,3]\n",
    "\n",
    "print('x data:\\n',x)\n",
    "print('y data:\\n',y)"
   ]
  },
  {
   "attachments": {},
   "cell_type": "markdown",
   "metadata": {},
   "source": [
    "## Spliting the test data"
   ]
  },
  {
   "attachments": {},
   "cell_type": "markdown",
   "metadata": {},
   "source": [
    "### splitting using sklearn"
   ]
  },
  {
   "cell_type": "code",
   "execution_count": 13,
   "metadata": {},
   "outputs": [],
   "source": [
    "X_train, X_test, y_train, y_test = train_test_split(X, y, test_size= 0.2, random_state=1234)"
   ]
  },
  {
   "cell_type": "code",
   "execution_count": 14,
   "metadata": {},
   "outputs": [
    {
     "name": "stdout",
     "output_type": "stream",
     "text": [
      "X total data :\n",
      "[[0 1]\n",
      " [2 3]\n",
      " [4 5]\n",
      " [6 7]\n",
      " [8 9]]\n",
      "y total data :\n",
      "[0, 1, 2, 3, 4]\n"
     ]
    }
   ],
   "source": [
    "# producing X and y data \n",
    "\n",
    "X, y = np.arange(10).reshape((5, 2)), range(5)\n",
    "\n",
    "print('X total data :')\n",
    "print(X)\n",
    "print('y total data :')\n",
    "print(list(y))"
   ]
  },
  {
   "attachments": {},
   "cell_type": "markdown",
   "metadata": {},
   "source": [
    "            Here, we separate the data at a ratio of 7:3. train_test_split() basically shuffles the order of the data and then separates the training data from the test data. If you write down the random_state value in a specific number and then write it in the same number next time, you can always get the same training data and test data. However, if you change the values, they are separated in a different order, resulting in different training and test data. Let's understand it through practice. The random_state value was arbitrarily specified as 1234."
   ]
  },
  {
   "cell_type": "code",
   "execution_count": 15,
   "metadata": {},
   "outputs": [],
   "source": [
    "# splitting it with 7:3 ratio \n",
    "X_train, X_test, y_train, y_test = train_test_split(X, y, test_size=0.3, random_state=1234)"
   ]
  },
  {
   "cell_type": "code",
   "execution_count": 16,
   "metadata": {},
   "outputs": [
    {
     "name": "stdout",
     "output_type": "stream",
     "text": [
      "X training :\n",
      "[[2 3]\n",
      " [4 5]\n",
      " [6 7]]\n",
      "X test :\n",
      "[[8 9]\n",
      " [0 1]]\n"
     ]
    }
   ],
   "source": [
    "print('X training :')\n",
    "print(X_train)\n",
    "print('X test :')\n",
    "print(X_test)"
   ]
  },
  {
   "cell_type": "code",
   "execution_count": 17,
   "metadata": {},
   "outputs": [
    {
     "name": "stdout",
     "output_type": "stream",
     "text": [
      "y training data :\n",
      "[1, 2, 3]\n",
      "y test data :\n",
      "[4, 0]\n"
     ]
    }
   ],
   "source": [
    "print('y training data :')\n",
    "print(y_train)\n",
    "print('y test data :')\n",
    "print(y_test)"
   ]
  },
  {
   "cell_type": "code",
   "execution_count": 19,
   "metadata": {},
   "outputs": [
    {
     "name": "stdout",
     "output_type": "stream",
     "text": [
      "y training data :\n",
      "[4, 0, 3]\n",
      "y test data :\n",
      "[2, 1]\n",
      "X training :\n",
      "[[8 9]\n",
      " [0 1]\n",
      " [6 7]]\n",
      "X test :\n",
      "[[4 5]\n",
      " [2 3]]\n"
     ]
    }
   ],
   "source": [
    "# changing the value of the randome state --> different random values \n",
    "\n",
    "X_train, X_test, y_train, y_test = train_test_split(X, y, test_size=0.3, random_state=1)\n",
    "\n",
    "print('y training data :')\n",
    "print(y_train)\n",
    "print('y test data :')\n",
    "print(y_test)\n",
    "\n",
    "print('X training :')\n",
    "print(X_train)\n",
    "print('X test :')\n",
    "print(X_test)\n"
   ]
  },
  {
   "attachments": {},
   "cell_type": "markdown",
   "metadata": {},
   "source": [
    "### Splitting the data manually"
   ]
  },
  {
   "cell_type": "code",
   "execution_count": 20,
   "metadata": {},
   "outputs": [
    {
     "name": "stdout",
     "output_type": "stream",
     "text": [
      "X total data :\n",
      "[[ 0  1]\n",
      " [ 2  3]\n",
      " [ 4  5]\n",
      " [ 6  7]\n",
      " [ 8  9]\n",
      " [10 11]\n",
      " [12 13]\n",
      " [14 15]\n",
      " [16 17]\n",
      " [18 19]\n",
      " [20 21]\n",
      " [22 23]]\n",
      "y total data :\n",
      "[0, 1, 2, 3, 4, 5, 6, 7, 8, 9, 10, 11]\n"
     ]
    }
   ],
   "source": [
    "# producing the X, y data\n",
    "X, y = np.arange(0,24).reshape((12,2)), range(12)\n",
    "\n",
    "print('X total data :')\n",
    "print(X)\n",
    "print('y total data :')\n",
    "print(list(y))"
   ]
  },
  {
   "cell_type": "code",
   "execution_count": 21,
   "metadata": {},
   "outputs": [
    {
     "name": "stdout",
     "output_type": "stream",
     "text": [
      "size of the training data : 9\n",
      "size of the test data : 3\n"
     ]
    }
   ],
   "source": [
    "num_of_train = int(len(X) * 0.8) \n",
    "num_of_test = int(len(X) - num_of_train) \n",
    "print('size of the training data :',num_of_train)\n",
    "print('size of the test data :',num_of_test)"
   ]
  },
  {
   "attachments": {},
   "cell_type": "markdown",
   "metadata": {},
   "source": [
    "                We haven't divided the training data and the test data yet, but we've just decided how many of these two should be. Here num_of_test should not be calculated as len(X) * 0.2. Data may be missing. For example, assuming that the total number of data is 4,518, the value of 80% of 4,518 is 3,614.4, and if you lower the decimal point to 3,614. In addition, a 20% value of 4,518 is 903.6, which is 903 if you lower the decimal point. And 3,614 + 903 = 4517, so one data is missing. Therefore, you have to calculate either side first and exclude that value."
   ]
  },
  {
   "cell_type": "code",
   "execution_count": 22,
   "metadata": {},
   "outputs": [
    {
     "name": "stdout",
     "output_type": "stream",
     "text": [
      "X test data :\n",
      "[[18 19]\n",
      " [20 21]\n",
      " [22 23]]\n",
      "y test data :\n",
      "[9, 10, 11]\n"
     ]
    }
   ],
   "source": [
    "X_test = X[num_of_train:] # the bottom 20 percent data saved\n",
    "y_test = y[num_of_train:] # the bottom 20 percent data saved\n",
    "X_train = X[:num_of_train] # the top 20 percent data saved\n",
    "y_train = y[:num_of_train] # the top 20 percent data saved\n",
    "\n",
    "print('X test data :')\n",
    "print(X_test)\n",
    "print('y test data :')\n",
    "print(list(y_test))"
   ]
  },
  {
   "cell_type": "code",
   "execution_count": null,
   "metadata": {},
   "outputs": [],
   "source": []
  }
 ],
 "metadata": {
  "kernelspec": {
   "display_name": "[vm]",
   "language": "python",
   "name": "python3"
  },
  "language_info": {
   "codemirror_mode": {
    "name": "ipython",
    "version": 3
   },
   "file_extension": ".py",
   "mimetype": "text/x-python",
   "name": "python",
   "nbconvert_exporter": "python",
   "pygments_lexer": "ipython3",
   "version": "3.10.9"
  },
  "orig_nbformat": 4,
  "vscode": {
   "interpreter": {
    "hash": "7e6995fe598735bd8ce37961478d69a82b87d78144982f6a22ceff2fd02a29cd"
   }
  }
 },
 "nbformat": 4,
 "nbformat_minor": 2
}
