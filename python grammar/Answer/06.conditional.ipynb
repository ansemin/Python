{
 "cells": [
  {
   "cell_type": "code",
   "execution_count": 17,
   "id": "9d5996b9",
   "metadata": {},
   "outputs": [
    {
     "name": "stdout",
     "output_type": "stream",
     "text": [
      "a and b is the same\n"
     ]
    }
   ],
   "source": [
    "a=1\n",
    "b=1\n",
    "\n",
    "if a==b:\n",
    "    print('a and b is the same')\n",
    "    \n",
    "if a!=b:\n",
    "    print('a and b is not same')"
   ]
  },
  {
   "cell_type": "code",
   "execution_count": 19,
   "id": "3d5e3d49",
   "metadata": {},
   "outputs": [
    {
     "name": "stdout",
     "output_type": "stream",
     "text": [
      "a and b is the same\n"
     ]
    }
   ],
   "source": [
    "a=1\n",
    "b=1\n",
    "\n",
    "if a==b:\n",
    "    print('a and b is the same')\n",
    "    \n",
    "else:\n",
    "    print('a and b is not same')"
   ]
  },
  {
   "cell_type": "code",
   "execution_count": 20,
   "id": "4cb771a8",
   "metadata": {},
   "outputs": [
    {
     "name": "stdout",
     "output_type": "stream",
     "text": [
      "a is smaller than b\n"
     ]
    }
   ],
   "source": [
    "a=1\n",
    "b=2\n",
    "if a==b:\n",
    "    print('a and b is the same')\n",
    "elif a<b:\n",
    "    print('a is smaller than b')\n",
    "else:\n",
    "    print('a is smaller than b')"
   ]
  },
  {
   "cell_type": "code",
   "execution_count": null,
   "id": "95f3a556",
   "metadata": {},
   "outputs": [],
   "source": []
  }
 ],
 "metadata": {
  "kernelspec": {
   "display_name": "Python 3",
   "language": "python",
   "name": "python3"
  },
  "language_info": {
   "codemirror_mode": {
    "name": "ipython",
    "version": 3
   },
   "file_extension": ".py",
   "mimetype": "text/x-python",
   "name": "python",
   "nbconvert_exporter": "python",
   "pygments_lexer": "ipython3",
   "version": "3.10.9 (tags/v3.10.9:1dd9be6, Dec  6 2022, 20:01:21) [MSC v.1934 64 bit (AMD64)]"
  },
  "vscode": {
   "interpreter": {
    "hash": "7b1f2b33e866b0bf2409397e5f58ba9cdf170d3b7f64c8f359c79998e2f88ad4"
   }
  }
 },
 "nbformat": 4,
 "nbformat_minor": 5
}
