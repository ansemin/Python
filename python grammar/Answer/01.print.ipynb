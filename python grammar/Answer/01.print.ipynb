{
 "cells": [
  {
   "cell_type": "code",
   "execution_count": 12,
   "id": "76dbf54c",
   "metadata": {},
   "outputs": [
    {
     "name": "stdout",
     "output_type": "stream",
     "text": [
      "Hello World\n"
     ]
    }
   ],
   "source": [
    "print('Hello World')"
   ]
  },
  {
   "cell_type": "code",
   "execution_count": 13,
   "id": "a6d37854",
   "metadata": {},
   "outputs": [
    {
     "name": "stdout",
     "output_type": "stream",
     "text": [
      "hello\"world\"\n"
     ]
    }
   ],
   "source": [
    "print('hello\"world\"')"
   ]
  },
  {
   "cell_type": "code",
   "execution_count": null,
   "id": "4a818570",
   "metadata": {},
   "outputs": [],
   "source": [
    "print('안녕','하세요','반갑습니다')\n",
    "\n",
    "### , put spaces between ###"
   ]
  },
  {
   "cell_type": "code",
   "execution_count": 15,
   "id": "ce590c74",
   "metadata": {},
   "outputs": [
    {
     "name": "stdout",
     "output_type": "stream",
     "text": [
      "helloworld\n"
     ]
    }
   ],
   "source": [
    "print('hello'+'world')"
   ]
  },
  {
   "cell_type": "code",
   "execution_count": 16,
   "id": "7e0b278c",
   "metadata": {},
   "outputs": [
    {
     "name": "stdout",
     "output_type": "stream",
     "text": [
      "\n",
      "whatever you writ here\n",
      "you dumb shit\n",
      "\n"
     ]
    }
   ],
   "source": [
    "print(\"\"\"\n",
    "whatever you writ here\n",
    "you dumb shit\n",
    "\"\"\")"
   ]
  },
  {
   "cell_type": "code",
   "execution_count": 17,
   "id": "1425ec2c",
   "metadata": {},
   "outputs": [
    {
     "name": "stdout",
     "output_type": "stream",
     "text": [
      "Hello \n",
      "nice to meet you\n"
     ]
    }
   ],
   "source": [
    "print('Hello \\nnice to meet you')"
   ]
  },
  {
   "cell_type": "code",
   "execution_count": 18,
   "id": "fa476eeb",
   "metadata": {},
   "outputs": [
    {
     "name": "stdout",
     "output_type": "stream",
     "text": [
      "a=123 b=안녕하세요\n"
     ]
    }
   ],
   "source": [
    "a=123\n",
    "b='안녕하세요'\n",
    "\n",
    "print('a={} b={}'.format(a,b))"
   ]
  },
  {
   "cell_type": "code",
   "execution_count": 19,
   "id": "0074b13a",
   "metadata": {},
   "outputs": [
    {
     "name": "stdout",
     "output_type": "stream",
     "text": [
      "a=123 b=안녕하세요\n"
     ]
    }
   ],
   "source": [
    "a=123\n",
    "b='안녕하세요'\n",
    "\n",
    "print(f'a={a} b={b}')"
   ]
  },
  {
   "cell_type": "code",
   "execution_count": null,
   "id": "24f8ae4b",
   "metadata": {},
   "outputs": [],
   "source": []
  }
 ],
 "metadata": {
  "kernelspec": {
   "display_name": "Python 3.10.6 ('py')",
   "language": "python",
   "name": "python3"
  },
  "language_info": {
   "codemirror_mode": {
    "name": "ipython",
    "version": 3
   },
   "file_extension": ".py",
   "mimetype": "text/x-python",
   "name": "python",
   "nbconvert_exporter": "python",
   "pygments_lexer": "ipython3",
   "version": "3.10.6"
  },
  "vscode": {
   "interpreter": {
    "hash": "9e0fd9f0727a335dd700afcd9105b9e352bbb0782bf4d80335ea5968bd0d34ec"
   }
  }
 },
 "nbformat": 4,
 "nbformat_minor": 5
}
