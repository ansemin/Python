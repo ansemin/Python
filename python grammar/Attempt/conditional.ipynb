{
 "cells": [
  {
   "cell_type": "code",
   "execution_count": 2,
   "metadata": {},
   "outputs": [
    {
     "name": "stdout",
     "output_type": "stream",
     "text": [
      "a==b\n"
     ]
    }
   ],
   "source": [
    "a=10\n",
    "b=10\n",
    "\n",
    "if a==b:\n",
    "    print('a==b')\n",
    "\n",
    "if a!=b:\n",
    "    print('a!=b')"
   ]
  },
  {
   "cell_type": "code",
   "execution_count": 3,
   "metadata": {},
   "outputs": [
    {
     "name": "stdout",
     "output_type": "stream",
     "text": [
      "a==b\n"
     ]
    }
   ],
   "source": [
    "a=10\n",
    "b=10\n",
    "\n",
    "if a==b:\n",
    "    print('a==b')\n",
    "\n",
    "else:\n",
    "    print('a!=b')"
   ]
  },
  {
   "cell_type": "code",
   "execution_count": 5,
   "metadata": {},
   "outputs": [
    {
     "name": "stdout",
     "output_type": "stream",
     "text": [
      "a>b\n"
     ]
    }
   ],
   "source": [
    "a=10\n",
    "b=1\n",
    "\n",
    "if a==b:\n",
    "    print('a==b')\n",
    "\n",
    "elif a>b:\n",
    "    print('a>b')\n",
    "\n",
    "else:\n",
    "    print('a<b')"
   ]
  },
  {
   "cell_type": "code",
   "execution_count": null,
   "metadata": {},
   "outputs": [],
   "source": [
    "#1. Write a Python program to find those numbers which are divisible by 7 and multiple of 5, between 1500 and 2700 (both included)\n"
   ]
  }
 ],
 "metadata": {
  "kernelspec": {
   "display_name": "Python 3",
   "language": "python",
   "name": "python3"
  },
  "language_info": {
   "codemirror_mode": {
    "name": "ipython",
    "version": 3
   },
   "file_extension": ".py",
   "mimetype": "text/x-python",
   "name": "python",
   "nbconvert_exporter": "python",
   "pygments_lexer": "ipython3",
   "version": "3.10.9"
  },
  "orig_nbformat": 4,
  "vscode": {
   "interpreter": {
    "hash": "7b1f2b33e866b0bf2409397e5f58ba9cdf170d3b7f64c8f359c79998e2f88ad4"
   }
  }
 },
 "nbformat": 4,
 "nbformat_minor": 2
}
