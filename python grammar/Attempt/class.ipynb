{
 "cells": [
  {
   "cell_type": "code",
   "execution_count": 1,
   "metadata": {},
   "outputs": [
    {
     "data": {
      "text/plain": [
       "__main__.Myclass"
      ]
     },
     "execution_count": 1,
     "metadata": {},
     "output_type": "execute_result"
    }
   ],
   "source": [
    "class Myclass:\n",
    "    pass\n",
    "\n",
    "Myclass\n"
   ]
  },
  {
   "cell_type": "code",
   "execution_count": 2,
   "metadata": {},
   "outputs": [
    {
     "data": {
      "text/plain": [
       "type"
      ]
     },
     "execution_count": 2,
     "metadata": {},
     "output_type": "execute_result"
    }
   ],
   "source": [
    "type(Myclass)"
   ]
  },
  {
   "cell_type": "code",
   "execution_count": 7,
   "metadata": {},
   "outputs": [
    {
     "name": "stdout",
     "output_type": "stream",
     "text": [
      "name is Anse\n"
     ]
    }
   ],
   "source": [
    "class Person:\n",
    "    name='default name'\n",
    "    def Print(self):\n",
    "        print('name is {}'.format(self.name))\n",
    "        \n",
    "son=Person()\n",
    "son.name='Anse'\n",
    "son.Print()"
   ]
  },
  {
   "cell_type": "code",
   "execution_count": 10,
   "metadata": {},
   "outputs": [
    {
     "name": "stdout",
     "output_type": "stream",
     "text": [
      "Katie is now Anse's ex\n"
     ]
    }
   ],
   "source": [
    "p1=Person()\n",
    "p2=Person()\n",
    "p3=Person()\n",
    "\n",
    "a=p1.name='Anse'\n",
    "b=p2.name='Katie'\n",
    "c=p3.name='ex'\n",
    "\n",
    "\n",
    "\n",
    "print(f\"{b} is now {a}'s {c}\")"
   ]
  },
  {
   "cell_type": "code",
   "execution_count": 16,
   "metadata": {},
   "outputs": [
    {
     "name": "stdout",
     "output_type": "stream",
     "text": [
      "hey\n",
      "New title\n"
     ]
    }
   ],
   "source": [
    "#instance\n",
    "Person.title='New title' #added to the Person class\n",
    "\n",
    "p2.title \n",
    "p1.title='hey'\n",
    "\n",
    "print(p1.title)\n",
    "print(p2.title)\n"
   ]
  },
  {
   "cell_type": "code",
   "execution_count": 17,
   "metadata": {},
   "outputs": [
    {
     "data": {
      "text/plain": [
       "20"
      ]
     },
     "execution_count": 17,
     "metadata": {},
     "output_type": "execute_result"
    }
   ],
   "source": [
    "p1.age=20\n",
    "p1.age"
   ]
  },
  {
   "attachments": {},
   "cell_type": "markdown",
   "metadata": {},
   "source": [
    "Person.age\n",
    "\n",
    "\n",
    "--> ---------------------------------------------------------------------------\n",
    "AttributeError                            Traceback (most recent call last)\n",
    "Cell In[19], line 1\n",
    "----> 1 Person.age\n",
    "\n",
    "AttributeError: type object 'Person' has no attribute 'age'\n",
    "\n",
    "\n",
    "        does not get affected because it was added to the instance"
   ]
  },
  {
   "cell_type": "code",
   "execution_count": 25,
   "metadata": {},
   "outputs": [
    {
     "name": "stdout",
     "output_type": "stream",
     "text": [
      "True\n",
      "True\n",
      "False\n",
      "True\n",
      "True\n",
      "False\n"
     ]
    }
   ],
   "source": [
    "#Inheritance\n",
    "class Bird:\n",
    "    pass\n",
    "\n",
    "class Student(Person):\n",
    "    pass\n",
    "\n",
    "p=Person()\n",
    "s=Student()\n",
    "\n",
    "print(isinstance(p,Person))\n",
    "print(isinstance(s,Person)) #because Student inherited Person\n",
    "print(isinstance(p,Student))#person did not inherit student\n",
    "print(isinstance(s,Student))\n",
    "print(isinstance(s,object)) #object is related to everything\n",
    "print(isinstance(p,Bird)) #no correlation"
   ]
  },
  {
   "cell_type": "code",
   "execution_count": 29,
   "metadata": {},
   "outputs": [
    {
     "name": "stdout",
     "output_type": "stream",
     "text": [
      "class created value = 10\n",
      "class is deleted\n",
      "class is deleted\n"
     ]
    }
   ],
   "source": [
    "#creating and deleting class \n",
    "\n",
    "class myclass:\n",
    "    def __init__(self, value): #value is constant;interchangable\\\n",
    "        self.Value=value\n",
    "        print('class created value =',value)\n",
    "        \n",
    "    def __del__(self):\n",
    "        print('class is deleted')\n",
    "        \n",
    "\n",
    "\n",
    "m=myclass(10)\n",
    "\n",
    "del m"
   ]
  },
  {
   "cell_type": "code",
   "execution_count": 30,
   "metadata": {},
   "outputs": [
    {
     "name": "stdout",
     "output_type": "stream",
     "text": [
      "Instance count 1\n"
     ]
    }
   ],
   "source": [
    "class CounterManager:\n",
    "    insCount=0\n",
    "    def __init__(self):\n",
    "        CounterManager.insCount+=1\n",
    "    \n",
    "    def printInstanceCount():\n",
    "        print(\"Instance count\",CounterManager.insCount)\n",
    "        \n",
    "\n",
    "\n",
    "a=CounterManager()\n",
    "CounterManager.printInstanceCount()"
   ]
  },
  {
   "cell_type": "code",
   "execution_count": 32,
   "metadata": {},
   "outputs": [],
   "source": [
    "a,b,c=CounterManager(),CounterManager(),CounterManager()"
   ]
  },
  {
   "cell_type": "code",
   "execution_count": 33,
   "metadata": {},
   "outputs": [
    {
     "name": "stdout",
     "output_type": "stream",
     "text": [
      "Instance count 5\n"
     ]
    }
   ],
   "source": [
    "CounterManager.printInstanceCount()"
   ]
  },
  {
   "cell_type": "code",
   "execution_count": 34,
   "metadata": {},
   "outputs": [
    {
     "name": "stdout",
     "output_type": "stream",
     "text": [
      "{'Name': 'Anse', 'Phone': '111'}\n",
      "info name:Anse,phone:111\n",
      "None\n",
      "Person(Name:Anse,Phone:111)\n",
      "None\n"
     ]
    }
   ],
   "source": [
    "class Perosn():\n",
    "    def __init__(self,name,phone):\n",
    "        self.Name=name\n",
    "        self.Phone=phone\n",
    "    \n",
    "    def PrintInfo(self):\n",
    "        print('info name:{},phone:{}'.format(self.Name,\n",
    "                                             self.Phone))\n",
    "        \n",
    "    def PrintPersonData(self):\n",
    "        print('Person(Name:{},Phone:{})'.format(self.Name,\n",
    "                                                self.Phone))\n",
    "        \n",
    "\n",
    "Me=Perosn('Anse','111')\n",
    "print(Me.__dict__)\n",
    "print(Me.PrintInfo())\n",
    "print(Me.PrintPersonData())\n"
   ]
  },
  {
   "cell_type": "code",
   "execution_count": 35,
   "metadata": {},
   "outputs": [
    {
     "name": "stdout",
     "output_type": "stream",
     "text": [
      "{'Name': 'JS', 'Phone': '111', 'Subject': 'design', 'StudentID': '111-111'}\n",
      "Person(Name: JS, Phone: 111, Subject: design, StudentID:111-111\n",
      "None\n"
     ]
    }
   ],
   "source": [
    "class Student(Perosn):\n",
    "    def __init__(self,name,phone,subject,studentID):\n",
    "        self.Name=name\n",
    "        self.Phone=phone\n",
    "        self.Subject=subject\n",
    "        self.StudentID=studentID\n",
    "        \n",
    "    def PrintStudentData(self):\n",
    "        print('Person(Name: {}, Phone: {}, Subject: {}, StudentID:{}'.format(\n",
    "            self.Name, self.Phone, self.Subject,self.StudentID))\n",
    "     \n",
    "      \n",
    "Bro=Student('JS','111','design','111-111')\n",
    "print(Bro.__dict__)\n",
    "print(Bro.PrintStudentData())\n",
    "  \n",
    "        "
   ]
  },
  {
   "cell_type": "code",
   "execution_count": 36,
   "metadata": {},
   "outputs": [
    {
     "name": "stdout",
     "output_type": "stream",
     "text": [
      "True\n",
      "False\n"
     ]
    }
   ],
   "source": [
    "#checking relationship between two classes\n",
    "\n",
    "print(issubclass(Student,Perosn))\n",
    "print(issubclass(Perosn,Student))"
   ]
  },
  {
   "cell_type": "code",
   "execution_count": 42,
   "metadata": {},
   "outputs": [
    {
     "name": "stdout",
     "output_type": "stream",
     "text": [
      "Play\n",
      "Bite\n",
      "Jump\n",
      "None None None\n"
     ]
    }
   ],
   "source": [
    "#Multiple Inheritance\n",
    "\n",
    "class Tiger:\n",
    "    def Jumps(self):\n",
    "        print('Jump')\n",
    "        \n",
    "\n",
    "class Lion:\n",
    "    def Bites(self):\n",
    "        print('Bite')\n",
    "        \n",
    "class Liger(Tiger,Lion):\n",
    "    def Play(self):\n",
    "        print('Play')\n",
    "        \n",
    "\n",
    "l=Liger()\n",
    "\n",
    "print(l.Play(),l.Bites(),l.Jumps())"
   ]
  },
  {
   "cell_type": "code",
   "execution_count": null,
   "metadata": {},
   "outputs": [],
   "source": []
  }
 ],
 "metadata": {
  "kernelspec": {
   "display_name": "Python 3",
   "language": "python",
   "name": "python3"
  },
  "language_info": {
   "codemirror_mode": {
    "name": "ipython",
    "version": 3
   },
   "file_extension": ".py",
   "mimetype": "text/x-python",
   "name": "python",
   "nbconvert_exporter": "python",
   "pygments_lexer": "ipython3",
   "version": "3.10.9"
  },
  "orig_nbformat": 4,
  "vscode": {
   "interpreter": {
    "hash": "7b1f2b33e866b0bf2409397e5f58ba9cdf170d3b7f64c8f359c79998e2f88ad4"
   }
  }
 },
 "nbformat": 4,
 "nbformat_minor": 2
}
