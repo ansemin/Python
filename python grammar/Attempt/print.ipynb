{
 "cells": [
  {
   "cell_type": "code",
   "execution_count": 1,
   "metadata": {},
   "outputs": [
    {
     "name": "stdout",
     "output_type": "stream",
     "text": [
      "Hello World\n"
     ]
    }
   ],
   "source": [
    "print('Hello World')"
   ]
  },
  {
   "cell_type": "code",
   "execution_count": 4,
   "metadata": {},
   "outputs": [
    {
     "name": "stdout",
     "output_type": "stream",
     "text": [
      "Hello\"world\"\n",
      "Hello world\n",
      "hello anse\n"
     ]
    }
   ],
   "source": [
    "print('Hello\"world\"')\n",
    "print('Hello','world')\n",
    "name='anse'\n",
    "print('hello',name)"
   ]
  },
  {
   "cell_type": "code",
   "execution_count": 1,
   "metadata": {},
   "outputs": [
    {
     "name": "stdout",
     "output_type": "stream",
     "text": [
      "hello \n",
      " Nice to meet you\n",
      "1+2\n"
     ]
    }
   ],
   "source": [
    "print('hello','\\n Nice to meet you')\n",
    "a=1\n",
    "b=2\n",
    "\n",
    "print('{}+{}'.format(a,b))"
   ]
  },
  {
   "cell_type": "code",
   "execution_count": 2,
   "metadata": {},
   "outputs": [
    {
     "name": "stdout",
     "output_type": "stream",
     "text": [
      "There are 7 cats in the room\n"
     ]
    }
   ],
   "source": [
    "a=7\n",
    "print(f'There are {a} cats in the room')"
   ]
  },
  {
   "cell_type": "code",
   "execution_count": null,
   "metadata": {},
   "outputs": [],
   "source": []
  }
 ],
 "metadata": {
  "kernelspec": {
   "display_name": "Python 3.10.6 ('py')",
   "language": "python",
   "name": "python3"
  },
  "language_info": {
   "codemirror_mode": {
    "name": "ipython",
    "version": 3
   },
   "file_extension": ".py",
   "mimetype": "text/x-python",
   "name": "python",
   "nbconvert_exporter": "python",
   "pygments_lexer": "ipython3",
   "version": "3.10.6"
  },
  "orig_nbformat": 4,
  "vscode": {
   "interpreter": {
    "hash": "9e0fd9f0727a335dd700afcd9105b9e352bbb0782bf4d80335ea5968bd0d34ec"
   }
  }
 },
 "nbformat": 4,
 "nbformat_minor": 2
}
