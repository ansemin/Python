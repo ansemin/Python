{
 "cells": [
  {
   "cell_type": "code",
   "execution_count": 1,
   "id": "53c441ac",
   "metadata": {},
   "outputs": [
    {
     "name": "stdout",
     "output_type": "stream",
     "text": [
      "hello world\n"
     ]
    }
   ],
   "source": [
    "print('hello world')"
   ]
  },
  {
   "cell_type": "code",
   "execution_count": 2,
   "id": "4d7f46ed",
   "metadata": {},
   "outputs": [],
   "source": [
    "import sys"
   ]
  },
  {
   "cell_type": "code",
   "execution_count": 3,
   "id": "80e94673",
   "metadata": {},
   "outputs": [
    {
     "name": "stdout",
     "output_type": "stream",
     "text": [
      "Welcome to Python\n"
     ]
    }
   ],
   "source": [
    "print('Welcome to','Python')"
   ]
  },
  {
   "cell_type": "code",
   "execution_count": 4,
   "id": "c9c4f702",
   "metadata": {},
   "outputs": [
    {
     "name": "stderr",
     "output_type": "stream",
     "text": [
      "Welcome to Python\n"
     ]
    }
   ],
   "source": [
    "print('Welcome to','Python', file=sys.stderr)"
   ]
  },
  {
   "cell_type": "code",
   "execution_count": 5,
   "id": "5dccf56b",
   "metadata": {},
   "outputs": [],
   "source": [
    "f=open('test.txt','w')"
   ]
  },
  {
   "cell_type": "code",
   "execution_count": 6,
   "id": "a321934e",
   "metadata": {},
   "outputs": [],
   "source": [
    "print('file write',file=f)\n",
    "f.close()"
   ]
  },
  {
   "cell_type": "markdown",
   "id": "c520876e",
   "metadata": {},
   "source": [
    "## file IO\n",
    "file 입출력을 다루다 보면 print를 사용 할수도 있지만 open을 사용하는게 좋다. "
   ]
  },
  {
   "cell_type": "code",
   "execution_count": 7,
   "id": "ace8a30d",
   "metadata": {},
   "outputs": [],
   "source": [
    "f=open('text.txt','w')\n",
    "f.write('plow deep \\nwhile sluggards sleeep')\n",
    "f.close()"
   ]
  },
  {
   "cell_type": "code",
   "execution_count": 11,
   "id": "779feeba",
   "metadata": {},
   "outputs": [],
   "source": [
    "f=open('test.txt','r')\n",
    "f.read()\n",
    "f.close()"
   ]
  },
  {
   "cell_type": "code",
   "execution_count": null,
   "id": "2754655b",
   "metadata": {},
   "outputs": [],
   "source": []
  }
 ],
 "metadata": {
  "kernelspec": {
   "display_name": "Python 3 (ipykernel)",
   "language": "python",
   "name": "python3"
  },
  "language_info": {
   "codemirror_mode": {
    "name": "ipython",
    "version": 3
   },
   "file_extension": ".py",
   "mimetype": "text/x-python",
   "name": "python",
   "nbconvert_exporter": "python",
   "pygments_lexer": "ipython3",
   "version": "3.9.12"
  }
 },
 "nbformat": 4,
 "nbformat_minor": 5
}
